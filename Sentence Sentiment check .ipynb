{
 "cells": [
  {
   "cell_type": "code",
   "execution_count": 22,
   "id": "72813d07",
   "metadata": {},
   "outputs": [],
   "source": [
    "import pandas as pd\n",
    "import numpy as np\n",
    "import seaborn as sns\n",
    "import matplotlib.pyplot as plt\n",
    "import joblib\n",
    "import re\n",
    "import nltk\n",
    "from nltk.corpus import stopwords\n",
    "from nltk.stem import PorterStemmer\n",
    "from nltk.stem import WordNetLemmatizer\n",
    "from sklearn.model_selection import train_test_split\n",
    "from sklearn.feature_extraction.text import TfidfVectorizer\n",
    "from sklearn.naive_bayes import MultinomialNB\n",
    "from sklearn.linear_model import LogisticRegression\n",
    "from sklearn.model_selection import cross_val_score, cross_val_predict\n",
    "from sklearn.metrics import accuracy_score, classification_report, confusion_matrix, f1_score, recall_score\n"
   ]
  },
  {
   "cell_type": "code",
   "execution_count": 23,
   "id": "5562f554",
   "metadata": {},
   "outputs": [
    {
     "name": "stdout",
     "output_type": "stream",
     "text": [
      "                                                  review sentiment\n",
      "0      One of the other reviewers has mentioned that ...  positive\n",
      "1      A wonderful little production. <br /><br />The...  positive\n",
      "2      I thought this was a wonderful way to spend ti...  positive\n",
      "3      Basically there's a family where a little boy ...  negative\n",
      "4      Petter Mattei's \"Love in the Time of Money\" is...  positive\n",
      "...                                                  ...       ...\n",
      "49995  I thought this movie did a down right good job...  positive\n",
      "49996  Bad plot, bad dialogue, bad acting, idiotic di...  negative\n",
      "49997  I am a Catholic taught in parochial elementary...  negative\n",
      "49998  I'm going to have to disagree with the previou...  negative\n",
      "49999  No one expects the Star Trek movies to be high...  negative\n",
      "\n",
      "[50000 rows x 2 columns]\n"
     ]
    }
   ],
   "source": [
    "df = pd.read_csv(\"IMDB_Dataset.csv\")\n",
    "print (df)"
   ]
  },
  {
   "cell_type": "code",
   "execution_count": 24,
   "id": "96688e42",
   "metadata": {},
   "outputs": [
    {
     "name": "stdout",
     "output_type": "stream",
     "text": [
      "                                          cleaned_review\n",
      "0      one reviewer mentioned watching oz episode you...\n",
      "1      wonderful little production br br filming tech...\n",
      "2      thought wonderful way spend time hot summer we...\n",
      "3      basically there family little boy jake think t...\n",
      "4      petter matteis love time money visually stunni...\n",
      "...                                                  ...\n",
      "49995  thought movie right good job wasnt creative or...\n",
      "49996  bad plot bad dialogue bad acting idiotic direc...\n",
      "49997  catholic taught parochial elementary school nu...\n",
      "49998  im going disagree previous comment side maltin...\n",
      "49999  one expects star trek movie high art fan expec...\n",
      "\n",
      "[50000 rows x 1 columns]\n"
     ]
    }
   ],
   "source": [
    "# Define a function to clean each text entry\n",
    "\n",
    "def clean_text(review):\n",
    "    # Convert text to lowercase\n",
    "    review = review.lower()\n",
    "    \n",
    "    # Remove punctuation and numbers\n",
    "    review = re.sub(r\"[^a-z\\s]\", \"\", review)\n",
    "    \n",
    "    # Remove extra spaces\n",
    "    review = re.sub(r\"\\s+\", \" \", review).strip()\n",
    "    \n",
    "   \n",
    "    stop_words = set(stopwords.words(\"english\"))\n",
    "\n",
    "      \n",
    "    # Remove stopwords\n",
    "    review = \" \".join([word for word in review.split() if word not in stop_words])\n",
    "    \n",
    "    lemmatizer = WordNetLemmatizer()\n",
    "    \n",
    "    \n",
    "     # Lemmatize each word\n",
    "    review = \" \".join([lemmatizer.lemmatize(word) for word in review.split()])\n",
    "    return review\n",
    "\n",
    "# Apply the cleaning function to the text column\n",
    "df[\"cleaned_review\"] = df[\"review\"].apply(clean_text)\n",
    "\n",
    "# Preview the cleaned data\n",
    "print(df[[ \"cleaned_review\"]])"
   ]
  },
  {
   "cell_type": "code",
   "execution_count": 25,
   "id": "09546184",
   "metadata": {},
   "outputs": [
    {
     "name": "stdout",
     "output_type": "stream",
     "text": [
      "                                          cleaned_review sentiment\n",
      "0      one reviewer mentioned watching oz episode you...  positive\n",
      "1      wonderful little production br br filming tech...  positive\n",
      "2      thought wonderful way spend time hot summer we...  positive\n",
      "3      basically there family little boy jake think t...  negative\n",
      "4      petter matteis love time money visually stunni...  positive\n",
      "...                                                  ...       ...\n",
      "49995  thought movie right good job wasnt creative or...  positive\n",
      "49996  bad plot bad dialogue bad acting idiotic direc...  negative\n",
      "49997  catholic taught parochial elementary school nu...  negative\n",
      "49998  im going disagree previous comment side maltin...  negative\n",
      "49999  one expects star trek movie high art fan expec...  negative\n",
      "\n",
      "[50000 rows x 2 columns]\n"
     ]
    }
   ],
   "source": [
    "print(df[[\"cleaned_review\", \"sentiment\"]])"
   ]
  },
  {
   "cell_type": "code",
   "execution_count": 26,
   "id": "2682a0dc",
   "metadata": {},
   "outputs": [
    {
     "name": "stdout",
     "output_type": "stream",
     "text": [
      "                                          cleaned_review sentiment\n",
      "0      one reviewer mentioned watching oz episode you...  positive\n",
      "1      wonderful little production br br filming tech...  positive\n",
      "2      thought wonderful way spend time hot summer we...  positive\n",
      "3      basically there family little boy jake think t...  negative\n",
      "4      petter matteis love time money visually stunni...  positive\n",
      "...                                                  ...       ...\n",
      "49995  thought movie right good job wasnt creative or...  positive\n",
      "49996  bad plot bad dialogue bad acting idiotic direc...  negative\n",
      "49997  catholic taught parochial elementary school nu...  negative\n",
      "49998  im going disagree previous comment side maltin...  negative\n",
      "49999  one expects star trek movie high art fan expec...  negative\n",
      "\n",
      "[50000 rows x 2 columns]\n"
     ]
    }
   ],
   "source": [
    "new_df = df[[\"cleaned_review\", \"sentiment\"]]\n",
    "print(new_df)"
   ]
  },
  {
   "cell_type": "code",
   "execution_count": 27,
   "id": "a20d9e39",
   "metadata": {},
   "outputs": [
    {
     "name": "stdout",
     "output_type": "stream",
     "text": [
      "Model: Logistic Regression\n",
      "Accuracy: 0.8941\n",
      "Classification Report:\n",
      "               precision    recall  f1-score   support\n",
      "\n",
      "    negative       0.90      0.88      0.89      4961\n",
      "    positive       0.88      0.91      0.90      5039\n",
      "\n",
      "    accuracy                           0.89     10000\n",
      "   macro avg       0.89      0.89      0.89     10000\n",
      "weighted avg       0.89      0.89      0.89     10000\n",
      "\n",
      "Confusion Matrix:\n",
      " [[4364  597]\n",
      " [ 462 4577]]\n",
      "Recall: 0.8941\n",
      "F1 Score: 0.8941\n",
      "\n",
      "==================================================\n",
      "\n"
     ]
    }
   ],
   "source": [
    "\n",
    " X_train, X_test, y_train, y_test = train_test_split(df['cleaned_review'], df['sentiment'], test_size=0.2, random_state=42)\n",
    "\n",
    "# Vectorize the text data using TF-IDF\n",
    "vectorizer = TfidfVectorizer()\n",
    "X_train_tfidf = vectorizer.fit_transform(X_train)\n",
    "X_test_tfidf = vectorizer.transform(X_test)\n",
    "\n",
    "models = {\n",
    "    #'Naive Bayes': MultinomialNB(),\n",
    "    'Logistic Regression': LogisticRegression(max_iter=1000),\n",
    "   # 'Support Vector Machine': SVC(probability=True)\n",
    "}\n",
    "\n",
    "# Train and evaluate each model\n",
    "for model_name, model in models.items():\n",
    "    # Train the model\n",
    "    model.fit(X_train_tfidf, y_train)\n",
    "    \n",
    "    # Make predictions\n",
    "    y_pred = model.predict(X_test_tfidf)\n",
    "    \n",
    "    # Evaluate the model\n",
    "    accuracy = accuracy_score(y_test, y_pred)\n",
    "    report = classification_report(y_test, y_pred)\n",
    "    conf_matrix = confusion_matrix(y_test, y_pred)\n",
    "    recall = recall_score(y_test, y_pred, average='weighted')\n",
    "    f1 = f1_score(y_test, y_pred, average='weighted')\n",
    "\n",
    "    print(f\"Model: {model_name}\")\n",
    "    print(f\"Accuracy: {accuracy:.4f}\")\n",
    "    print(\"Classification Report:\\n\", report)\n",
    "    print(\"Confusion Matrix:\\n\", conf_matrix)\n",
    "    print(f\"Recall: {recall:.4f}\")\n",
    "    print(f\"F1 Score: {f1:.4f}\")\n",
    "    print(\"\\n\" + \"=\"*50 + \"\\n\")"
   ]
  },
  {
   "cell_type": "code",
   "execution_count": 28,
   "id": "3ef4cb5e",
   "metadata": {
    "scrolled": true
   },
   "outputs": [
    {
     "name": "stdout",
     "output_type": "stream",
     "text": [
      "Cross-Validation Accuracy Scores: [0.893125 0.890875 0.8935   0.885625 0.88775 ]\n",
      "Mean Accuracy: 0.8902\n",
      "\n",
      "Classification Report (Cross-Validation):\n",
      "               precision    recall  f1-score   support\n",
      "\n",
      "    negative       0.90      0.88      0.89     20039\n",
      "    positive       0.88      0.90      0.89     19961\n",
      "\n",
      "    accuracy                           0.89     40000\n",
      "   macro avg       0.89      0.89      0.89     40000\n",
      "weighted avg       0.89      0.89      0.89     40000\n",
      "\n"
     ]
    },
    {
     "data": {
      "image/png": "[encoded data removed]",
      "text/plain": [
       "<Figure size 800x600 with 2 Axes>"
      ]
     },
     "metadata": {},
     "output_type": "display_data"
    },
    {
     "data": {
      "text/plain": [
       "['tfidf_vectorizer.pkl']"
      ]
     },
     "execution_count": 28,
     "metadata": {},
     "output_type": "execute_result"
    }
   ],
   "source": [
    "# Cross-validation for additional insights (example for Logistic Regression)\n",
    "log_reg_model = models['Logistic Regression']\n",
    "\n",
    "# Perform cross-validation\n",
    "cv_scores = cross_val_score(log_reg_model, X_train_tfidf, y_train, cv=5, scoring='accuracy')\n",
    "cv_predictions = cross_val_predict(log_reg_model, X_train_tfidf, y_train, cv=5)\n",
    "\n",
    "# Print cross-validation results\n",
    "print(f\"Cross-Validation Accuracy Scores: {cv_scores}\")\n",
    "print(f\"Mean Accuracy: {cv_scores.mean():.4f}\")\n",
    "print(\"\\nClassification Report (Cross-Validation):\\n\", classification_report(y_train, cv_predictions))\n",
    "\n",
    "# Plot confusion matrix for cross-validation predictions\n",
    "conf_matrix_cv = confusion_matrix(y_train, cv_predictions)\n",
    "plt.figure(figsize=(8, 6))\n",
    "sns.heatmap(conf_matrix_cv, annot=True, fmt='d', cmap='Greens', xticklabels=np.unique(y_train), yticklabels=np.unique(y_train))\n",
    "plt.title(\"Cross-Validation Confusion Matrix\")\n",
    "plt.xlabel(\"Predicted Label\")\n",
    "plt.ylabel(\"True Label\")\n",
    "plt.show()\n",
    "\n",
    "# Save the trained model to a file\n",
    "joblib.dump(model, 'sentiment_model.pkl')\n",
    "\n",
    "# Save the TF-IDF vectorizer to a file\n",
    "joblib.dump(vectorizer, 'tfidf_vectorizer.pkl')"
   ]
  },
  {
   "cell_type": "code",
   "execution_count": null,
   "id": "a74f9d23",
   "metadata": {},
   "outputs": [
    {
     "name": "stdout",
     "output_type": "stream",
     "text": [
      "Enter a review (or type 'exit' to quit): this is good movie\n",
      "Predicted Sentiment: positive\n",
      "Confidence Score: 88.39%\n",
      "\n",
      "Enter a review (or type 'exit' to quit): this is not good\n",
      "Predicted Sentiment: positive\n",
      "Confidence Score: 93.92%\n",
      "\n",
      "Enter a review (or type 'exit' to quit): this is trash\n",
      "Predicted Sentiment: negative\n",
      "Confidence Score: 83.30%\n",
      "\n",
      "Enter a review (or type 'exit' to quit): do not watch this \n",
      "Predicted Sentiment: positive\n",
      "Confidence Score: 55.99%\n",
      "\n",
      "Enter a review (or type 'exit' to quit): this dialogue were not that great \n",
      "Predicted Sentiment: positive\n",
      "Confidence Score: 92.43%\n",
      "\n",
      "Enter a review (or type 'exit' to quit): disagree with the movie\n",
      "Predicted Sentiment: positive\n",
      "Confidence Score: 61.48%\n",
      "\n",
      "Enter a review (or type 'exit' to quit): this is awesome\n",
      "Predicted Sentiment: positive\n",
      "Confidence Score: 95.30%\n",
      "\n",
      "Enter a review (or type 'exit' to quit): this is negative\n",
      "Predicted Sentiment: positive\n",
      "Confidence Score: 65.26%\n",
      "\n",
      "Enter a review (or type 'exit' to quit): this is bad\n",
      "Predicted Sentiment: negative\n",
      "Confidence Score: 99.98%\n",
      "\n",
      "Enter a review (or type 'exit' to quit): I absolutely love this film\n",
      "Predicted Sentiment: positive\n",
      "Confidence Score: 88.75%\n",
      "\n",
      "Enter a review (or type 'exit' to quit): if you're considering to watch this movies, please do not \n",
      "Predicted Sentiment: negative\n",
      "Confidence Score: 59.33%\n",
      "\n",
      "Enter a review (or type 'exit' to quit): the graphics of this movie were great but the direction was trash\n",
      "Predicted Sentiment: positive\n",
      "Confidence Score: 70.79%\n",
      "\n",
      "Enter a review (or type 'exit' to quit): this was not worth the hype \n",
      "Predicted Sentiment: negative\n",
      "Confidence Score: 60.62%\n",
      "\n",
      "Enter a review (or type 'exit' to quit): this is absolutely waste of time\n",
      "Predicted Sentiment: negative\n",
      "Confidence Score: 99.52%\n",
      "\n",
      "Enter a review (or type 'exit' to quit): this is not that great\n",
      "Predicted Sentiment: positive\n",
      "Confidence Score: 99.97%\n",
      "\n",
      "Enter a review (or type 'exit' to quit): this is not as good as other people said it was\n",
      "Predicted Sentiment: positive\n",
      "Confidence Score: 69.69%\n",
      "\n",
      "Enter a review (or type 'exit' to quit): this cannot be great\n",
      "Predicted Sentiment: positive\n",
      "Confidence Score: 79.79%\n",
      "\n",
      "Enter a review (or type 'exit' to quit): not a good recommendation\n",
      "Predicted Sentiment: positive\n",
      "Confidence Score: 65.96%\n",
      "\n",
      "Enter a review (or type 'exit' to quit): not\n",
      "Predicted Sentiment: negative\n",
      "Confidence Score: 51.59%\n",
      "\n"
     ]
    }
   ],
   "source": [
    "\n",
    "# Load the saved model and vectorizer\n",
    "model = joblib.load('sentiment_model.pkl')\n",
    "vectorizer = joblib.load('tfidf_vectorizer.pkl')\n",
    "\n",
    "def predict_sentiment(review):\n",
    "    \"\"\"\n",
    "    Predict the sentiment of a given review.\n",
    "    \n",
    "    Parameters:\n",
    "        review (str): The customer review text.\n",
    "        \n",
    "    Returns:\n",
    "        str: The predicted sentiment (e.g., Positive, Negative, or Neutral).\n",
    "        float: The confidence score for the prediction.\n",
    "    \"\"\"\n",
    "    # Preprocess the input review (e.g., vectorize it)\n",
    "    review_vectorized = vectorizer.transform([review])\n",
    "    \n",
    "    # Get prediction and confidence score\n",
    "    prediction = model.predict(review_vectorized)[0]\n",
    "    confidence = np.max(model.predict_proba(review_vectorized)) * 100\n",
    "    \n",
    "    return prediction, confidence\n",
    "\n",
    "# Example usage\n",
    "while True:\n",
    "    user_input = input(\"Enter a review (or type 'exit' to quit): \")\n",
    "    if user_input.lower() == 'exit':\n",
    "        print(\"Exiting the sentiment predictor. Goodbye!\")\n",
    "        break\n",
    "    \n",
    "    sentiment, confidence = predict_sentiment(user_input)\n",
    "    print(f\"Predicted Sentiment: {sentiment}\")\n",
    "    print(f\"Confidence Score: {confidence:.2f}%\\n\")\n"
   ]
  },
  {
   "cell_type": "code",
   "execution_count": null,
   "id": "c048d7e6",
   "metadata": {},
   "outputs": [],
   "source": []
  }
 ],
 "metadata": {
  "kernelspec": {
   "display_name": "Python 3 (ipykernel)",
   "language": "python",
   "name": "python3"
  },
  "language_info": {
   "codemirror_mode": {
    "name": "ipython",
    "version": 3
   },
   "file_extension": ".py",
   "mimetype": "text/x-python",
   "name": "python",
   "nbconvert_exporter": "python",
   "pygments_lexer": "ipython3",
   "version": "3.11.4"
  }
 },
 "nbformat": 4,
 "nbformat_minor": 5
}
